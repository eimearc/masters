{
 "cells": [
  {
   "cell_type": "code",
   "execution_count": 1,
   "metadata": {},
   "outputs": [],
   "source": [
    "import pandas as pd\n",
    "import matplotlib.pyplot as plt\n",
    "import numpy as np\n",
    "from scipy import stats\n",
    "from os import path"
   ]
  },
  {
   "cell_type": "code",
   "execution_count": 2,
   "metadata": {},
   "outputs": [],
   "source": [
    "class Data:\n",
    "    df = {}\n",
    "    title = \"\"\n",
    "    \n",
    "    def __init__(self, df, title):\n",
    "        self.df = df\n",
    "        self.title = title"
   ]
  },
  {
   "cell_type": "code",
   "execution_count": 8,
   "metadata": {},
   "outputs": [
    {
     "name": "stdout",
     "output_type": "stream",
     "text": [
      "       numThreads  numVerts        frame      startup\n",
      "count      8290.0    8290.0  8290.000000  8290.000000\n",
      "mean          1.0       3.0     0.928940    23.834535\n",
      "std           0.0       0.0     0.859297     5.288742\n",
      "min           1.0       3.0     0.316405    20.973300\n",
      "25%           1.0       3.0     0.603134    21.430400\n",
      "50%           1.0       3.0     0.713346    21.901700\n",
      "75%           1.0       3.0     0.923519    22.927500\n",
      "max           1.0       3.0    14.069900    52.624100\n",
      "       numThreads  numVerts        frame      startup\n",
      "count      8380.0    8380.0  8380.000000  8380.000000\n",
      "mean          1.0       3.0     1.330817    24.285771\n",
      "std           0.0       0.0     0.725773     0.824338\n",
      "min           1.0       3.0     0.868055    22.868000\n",
      "25%           1.0       3.0     1.110620    23.849800\n",
      "50%           1.0       3.0     1.175590    24.137200\n",
      "75%           1.0       3.0     1.279552    24.598200\n",
      "max           1.0       3.0    12.015900    29.349700\n"
     ]
    }
   ],
   "source": [
    "t = pd.read_csv(\"triangle.txt\")\n",
    "m = pd.read_csv(\"multipass.txt\")\n",
    "o = pd.read_csv(\"obj.txt\")\n",
    "st = pd.read_csv(\"simple_triangle.csv\")\n",
    "\n",
    "triangle = Data(t,'evk Triangle')\n",
    "multipass = Data(m,'evk Multipass')\n",
    "obj = Data(o,'evk OBJ')\n",
    "simple_triangle = Data(st,'Simple Triangle')\n",
    "\n",
    "ALL_DATA_FRAMES = [triangle,multipass,obj,simple_triangle]\n",
    "\n",
    "MAX_THREADS = 4\n",
    "\n",
    "for data in ALL_DATA_FRAMES:\n",
    "    df = data.df\n",
    "    for i in range(1,MAX_THREADS+1):\n",
    "        z=np.abs(stats.zscore(df.frame[df.numThreads==i]))\n",
    "        df.drop(df.index[np.where(z>3)[0]], inplace=True)\n",
    "        z=np.abs(stats.zscore(df.startup[df.numThreads==i]))\n",
    "        df.drop(df.index[np.where(z>3)[0]], inplace=True)\n",
    "\n",
    "df = simple_triangle.df\n",
    "print(df[df.numThreads==1].describe())\n",
    "df = triangle.df\n",
    "print(df[df.numThreads==1].describe())\n",
    "        \n",
    "def graph_per_thread(d, n, subtitle, minimum=0, maximum=100):\n",
    "    x_label='time (ms)'\n",
    "    y_label='count'\n",
    "    \n",
    "    df = d.df\n",
    "    \n",
    "    fig,ax=plt.subplots(1,4,figsize=(20,5))\n",
    "    fig.suptitle('Example {} {} Time (ms) - {} Vertices'.format(d.title, subtitle, df.numVerts.iloc[0]))\n",
    "    for i in range(1,5):\n",
    "        df[df.numThreads==i].hist(n,bins=100,ax=ax[i-1],range=[minimum,maximum])\n",
    "        ax[i-1].set_xlabel(x_label)\n",
    "        ax[i-1].set_ylabel(y_label)\n",
    "        ax[i-1].set_title('{} threads'.format(i))\n",
    "    plt.show()\n",
    "    \n",
    "def graph(simple, evk, n, title, minimum=0, maximum=100):\n",
    "    x_label='time (ms)'\n",
    "    y_label='count'\n",
    "    \n",
    "    fig,ax=plt.subplots(1,2,figsize=(10,5))\n",
    "    fig.suptitle('{} Time (ms)'.format(title))\n",
    "    \n",
    "    def g(d, i):\n",
    "        df = d.df\n",
    "        df.hist(n,bins=100,ax=ax[i],range=[minimum,maximum])\n",
    "        ax[i].set_xlabel(x_label)\n",
    "        ax[i].set_ylabel(y_label)\n",
    "        ax[i].set_title(d.title)\n",
    "    \n",
    "    g(simple,0)\n",
    "    g(evk,1)\n",
    "    plt.show()\n",
    "    \n",
    "# graph(simple_triangle, triangle, 'frame', 'Frame Draw', 0, 10)\n",
    "# graph(simple_triangle, triangle, 'startup', 'Startup', 0, 100)\n",
    "\n",
    "# for data in ALL_DATA_FRAMES:\n",
    "#     graph_per_thread(data, 'frame', 'Frame Draw', 0, 30)\n",
    "    \n",
    "# for data in ALL_DATA_FRAMES:\n",
    "#     graph_per_thread(data, 'startup', 'Startup', 0, 200)"
   ]
  },
  {
   "cell_type": "code",
   "execution_count": null,
   "metadata": {},
   "outputs": [],
   "source": []
  }
 ],
 "metadata": {
  "kernelspec": {
   "display_name": "Python 3",
   "language": "python",
   "name": "python3"
  },
  "language_info": {
   "codemirror_mode": {
    "name": "ipython",
    "version": 3
   },
   "file_extension": ".py",
   "mimetype": "text/x-python",
   "name": "python",
   "nbconvert_exporter": "python",
   "pygments_lexer": "ipython3",
   "version": "3.8.4"
  }
 },
 "nbformat": 4,
 "nbformat_minor": 4
}
